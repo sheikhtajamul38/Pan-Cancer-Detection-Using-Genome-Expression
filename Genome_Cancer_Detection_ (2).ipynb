{
  "nbformat": 4,
  "nbformat_minor": 0,
  "metadata": {
    "colab": {
      "name": "Genome Cancer Detection .ipynb",
      "provenance": [],
      "collapsed_sections": []
    },
    "kernelspec": {
      "name": "python3",
      "display_name": "Python 3"
    },
    "accelerator": "TPU"
  },
  "cells": [
    {
      "cell_type": "markdown",
      "metadata": {
        "id": "0u9ONojVqGtZ"
      },
      "source": [
        "# Downloading and Extracting Dataset"
      ]
    },
    {
      "cell_type": "code",
      "metadata": {
        "id": "IGNCeaRU3Rad",
        "outputId": "93514734-c3de-4105-fc82-303e73eb462e",
        "colab": {
          "base_uri": "https://localhost:8080/"
        }
      },
      "source": [
        "!wget --no-check-certificate https://toil.xenahubs.net/download/tcga_RSEM_Hugo_norm_count.gz -O /var/tcga_RSEM_Hugo_norm_count.gz\n"
      ],
      "execution_count": null,
      "outputs": [
        {
          "output_type": "stream",
          "text": [
            "--2020-10-30 08:49:35--  https://toil.xenahubs.net/download/tcga_RSEM_Hugo_norm_count.gz\n",
            "Resolving toil.xenahubs.net (toil.xenahubs.net)... 3.87.181.184, 52.6.45.164\n",
            "Connecting to toil.xenahubs.net (toil.xenahubs.net)|3.87.181.184|:443... connected.\n",
            "HTTP request sent, awaiting response... 200 OK\n",
            "Length: 935272500 (892M) [application/gzip]\n",
            "Saving to: ‘/var/tcga_RSEM_Hugo_norm_count.gz’\n",
            "\n",
            "/var/tcga_RSEM_Hugo 100%[===================>] 891.95M  23.4MB/s    in 29s     \n",
            "\n",
            "2020-10-30 08:50:05 (30.4 MB/s) - ‘/var/tcga_RSEM_Hugo_norm_count.gz’ saved [935272500/935272500]\n",
            "\n"
          ],
          "name": "stdout"
        }
      ]
    },
    {
      "cell_type": "code",
      "metadata": {
        "id": "1j01cvQM4sIz"
      },
      "source": [
        "#install patool for extracting .zip/.gz files\n",
        "#!pip install patool"
      ],
      "execution_count": null,
      "outputs": []
    },
    {
      "cell_type": "code",
      "metadata": {
        "id": "nvq866JT6bwf"
      },
      "source": [
        "#import patoolib\n",
        "import os\n",
        "os.chdir(\"..\")\n",
        "os.chdir(\"var\")\n",
        "#patoolib.extract_archive(\"tcga_RSEM_Hugo_norm_count.gz\",outdir=\"Dataset\")"
      ],
      "execution_count": null,
      "outputs": []
    },
    {
      "cell_type": "markdown",
      "metadata": {
        "id": "DbcxFYwFqUno"
      },
      "source": [
        "# Visualizing Data and performing preprocessing on the dataset"
      ]
    },
    {
      "cell_type": "code",
      "metadata": {
        "id": "_4XzJ9qa8oEz"
      },
      "source": [
        "import os\n",
        "import math\n",
        "import numpy as np\n",
        "from sklearn import linear_model, metrics\n",
        "import pandas as pd\n",
        "import h5py\n",
        "import matplotlib.pyplot as plt\n",
        "#import tensorflow as tf\n",
        "import random\n",
        "#from tensorflow.python.framework import ops\n",
        "%matplotlib inline\n",
        "np.random.seed(500)"
      ],
      "execution_count": null,
      "outputs": []
    },
    {
      "cell_type": "code",
      "metadata": {
        "id": "KN3zMcxI9mKz",
        "outputId": "36717506-aff6-4a09-8661-55200de67621",
        "colab": {
          "base_uri": "https://localhost:8080/"
        }
      },
      "source": [
        "#os.listdir()\n",
        "#os.chdir(\"..\")\n",
        "%%time\n",
        "data = pd.read_csv('tcga_RSEM_Hugo_norm_count.gz', compression='gzip', delim_whitespace = True)\n",
        "print(data.info())\n"
      ],
      "execution_count": null,
      "outputs": [
        {
          "output_type": "stream",
          "text": [
            "<class 'pandas.core.frame.DataFrame'>\n",
            "RangeIndex: 58581 entries, 0 to 58580\n",
            "Columns: 10536 entries, sample to TCGA-FV-A3I0-11\n",
            "dtypes: float64(10535), object(1)\n",
            "memory usage: 4.6+ GB\n",
            "None\n",
            "CPU times: user 4min 47s, sys: 14 s, total: 5min 1s\n",
            "Wall time: 5min 2s\n"
          ],
          "name": "stdout"
        }
      ]
    },
    {
      "cell_type": "code",
      "metadata": {
        "id": "H7vaI9uu-jsn"
      },
      "source": [
        "##load the data to pandas dataframe\n",
        "#data = pd.read_table('tcga_RSEM_Hugo_norm_count')\n",
        "#Analyzing mean standard deviation and other stuffs in our dataset\n",
        "#data.describe()"
      ],
      "execution_count": null,
      "outputs": []
    },
    {
      "cell_type": "code",
      "metadata": {
        "id": "QLmQ7HU0SMnk",
        "outputId": "fcee0b00-6e7c-4ea8-da3b-3d5dc48ae7ca",
        "colab": {
          "base_uri": "https://localhost:8080/",
          "height": 378
        }
      },
      "source": [
        "#checking top 5 rows of the dataset and see how the cols are filled in the dataset\n",
        "data.head()"
      ],
      "execution_count": null,
      "outputs": [
        {
          "output_type": "execute_result",
          "data": {
            "text/html": [
              "<div>\n",
              "<style scoped>\n",
              "    .dataframe tbody tr th:only-of-type {\n",
              "        vertical-align: middle;\n",
              "    }\n",
              "\n",
              "    .dataframe tbody tr th {\n",
              "        vertical-align: top;\n",
              "    }\n",
              "\n",
              "    .dataframe thead th {\n",
              "        text-align: right;\n",
              "    }\n",
              "</style>\n",
              "<table border=\"1\" class=\"dataframe\">\n",
              "  <thead>\n",
              "    <tr style=\"text-align: right;\">\n",
              "      <th></th>\n",
              "      <th>sample</th>\n",
              "      <th>TCGA-S9-A7J2-01</th>\n",
              "      <th>TCGA-G3-A3CH-11</th>\n",
              "      <th>TCGA-EK-A2RE-01</th>\n",
              "      <th>TCGA-44-6778-01</th>\n",
              "      <th>TCGA-F4-6854-01</th>\n",
              "      <th>TCGA-AB-2863-03</th>\n",
              "      <th>TCGA-C8-A1HL-01</th>\n",
              "      <th>TCGA-EW-A2FS-01</th>\n",
              "      <th>TCGA-05-4420-01</th>\n",
              "      <th>TCGA-2G-AAFZ-01</th>\n",
              "      <th>TCGA-DX-A3U8-01</th>\n",
              "      <th>TCGA-GL-8500-01</th>\n",
              "      <th>TCGA-CC-A3MA-01</th>\n",
              "      <th>TCGA-BR-A4J6-01</th>\n",
              "      <th>TCGA-KK-A6E4-01</th>\n",
              "      <th>TCGA-IN-7808-01</th>\n",
              "      <th>TCGA-L5-A4OH-01</th>\n",
              "      <th>TCGA-RP-A695-06</th>\n",
              "      <th>TCGA-A4-7828-01</th>\n",
              "      <th>TCGA-B9-A8YH-01</th>\n",
              "      <th>TCGA-E1-A7YI-01</th>\n",
              "      <th>TCGA-PC-A5DM-01</th>\n",
              "      <th>TCGA-BR-A4QL-01</th>\n",
              "      <th>TCGA-CH-5751-01</th>\n",
              "      <th>TCGA-A2-A3XX-01</th>\n",
              "      <th>TCGA-DQ-5624-01</th>\n",
              "      <th>TCGA-KK-A7B3-01</th>\n",
              "      <th>TCGA-DQ-7591-01</th>\n",
              "      <th>TCGA-06-5412-01</th>\n",
              "      <th>TCGA-BP-4989-01</th>\n",
              "      <th>TCGA-EJ-8468-01</th>\n",
              "      <th>TCGA-CZ-5459-01</th>\n",
              "      <th>TCGA-D5-5538-01</th>\n",
              "      <th>TCGA-KP-A3W3-01</th>\n",
              "      <th>TCGA-CZ-5468-11</th>\n",
              "      <th>TCGA-BH-A0BQ-11</th>\n",
              "      <th>TCGA-4X-A9FA-01</th>\n",
              "      <th>TCGA-DD-AAW0-01</th>\n",
              "      <th>TCGA-BR-4292-01</th>\n",
              "      <th>...</th>\n",
              "      <th>TCGA-13-0725-01</th>\n",
              "      <th>TCGA-95-7947-01</th>\n",
              "      <th>TCGA-A8-A090-01</th>\n",
              "      <th>TCGA-BB-4217-01</th>\n",
              "      <th>TCGA-5T-A9QA-01</th>\n",
              "      <th>TCGA-TN-A7HJ-01</th>\n",
              "      <th>TCGA-AN-A0XT-01</th>\n",
              "      <th>TCGA-TS-A8AS-01</th>\n",
              "      <th>TCGA-J4-8198-01</th>\n",
              "      <th>TCGA-OR-A5JS-01</th>\n",
              "      <th>TCGA-EE-A29L-06</th>\n",
              "      <th>TCGA-4X-A9F9-01</th>\n",
              "      <th>TCGA-C5-A1BJ-01</th>\n",
              "      <th>TCGA-G2-AA3C-01</th>\n",
              "      <th>TCGA-HU-8602-01</th>\n",
              "      <th>TCGA-CR-6470-01</th>\n",
              "      <th>TCGA-CH-5768-01</th>\n",
              "      <th>TCGA-2H-A9GM-01</th>\n",
              "      <th>TCGA-XH-A853-01</th>\n",
              "      <th>TCGA-CM-4751-01</th>\n",
              "      <th>TCGA-AO-A0J4-01</th>\n",
              "      <th>TCGA-55-6985-11</th>\n",
              "      <th>TCGA-2Y-A9H2-01</th>\n",
              "      <th>TCGA-BR-8368-01</th>\n",
              "      <th>TCGA-77-6844-01</th>\n",
              "      <th>TCGA-IN-AB1X-11</th>\n",
              "      <th>TCGA-CS-4944-01</th>\n",
              "      <th>TCGA-A2-A0YK-01</th>\n",
              "      <th>TCGA-18-3414-01</th>\n",
              "      <th>TCGA-13-1481-01</th>\n",
              "      <th>TCGA-DJ-A2QC-01</th>\n",
              "      <th>TCGA-A8-A09K-01</th>\n",
              "      <th>TCGA-61-1907-01</th>\n",
              "      <th>TCGA-IB-7885-01</th>\n",
              "      <th>TCGA-B6-A0IA-01</th>\n",
              "      <th>TCGA-VQ-AA6F-01</th>\n",
              "      <th>TCGA-BR-8588-01</th>\n",
              "      <th>TCGA-24-2254-01</th>\n",
              "      <th>TCGA-DD-A115-01</th>\n",
              "      <th>TCGA-FV-A3I0-11</th>\n",
              "    </tr>\n",
              "  </thead>\n",
              "  <tbody>\n",
              "    <tr>\n",
              "      <th>0</th>\n",
              "      <td>CTD-2588J6.1</td>\n",
              "      <td>0.7385</td>\n",
              "      <td>0.0000</td>\n",
              "      <td>0.0000</td>\n",
              "      <td>0.0000</td>\n",
              "      <td>0.0000</td>\n",
              "      <td>1.1763</td>\n",
              "      <td>0.0000</td>\n",
              "      <td>0.0000</td>\n",
              "      <td>0.9652</td>\n",
              "      <td>0.0000</td>\n",
              "      <td>0.0000</td>\n",
              "      <td>0.0000</td>\n",
              "      <td>0.000</td>\n",
              "      <td>1.1172</td>\n",
              "      <td>0.0000</td>\n",
              "      <td>3.0766</td>\n",
              "      <td>2.5313</td>\n",
              "      <td>0.0000</td>\n",
              "      <td>0.0000</td>\n",
              "      <td>0.0000</td>\n",
              "      <td>0.0000</td>\n",
              "      <td>0.0</td>\n",
              "      <td>1.5756</td>\n",
              "      <td>0.0000</td>\n",
              "      <td>0.0000</td>\n",
              "      <td>0.0000</td>\n",
              "      <td>0.0000</td>\n",
              "      <td>2.9498</td>\n",
              "      <td>0.0000</td>\n",
              "      <td>0.0000</td>\n",
              "      <td>0.0000</td>\n",
              "      <td>0.0000</td>\n",
              "      <td>0.0000</td>\n",
              "      <td>0.0000</td>\n",
              "      <td>0.0000</td>\n",
              "      <td>0.000</td>\n",
              "      <td>0.0000</td>\n",
              "      <td>0.0000</td>\n",
              "      <td>1.9991</td>\n",
              "      <td>...</td>\n",
              "      <td>0.0000</td>\n",
              "      <td>0.0000</td>\n",
              "      <td>0.0000</td>\n",
              "      <td>1.8900</td>\n",
              "      <td>0.0000</td>\n",
              "      <td>0.0000</td>\n",
              "      <td>0.0000</td>\n",
              "      <td>0.0000</td>\n",
              "      <td>0.0000</td>\n",
              "      <td>0.0</td>\n",
              "      <td>0.0000</td>\n",
              "      <td>0.0000</td>\n",
              "      <td>0.8332</td>\n",
              "      <td>0.0</td>\n",
              "      <td>0.0000</td>\n",
              "      <td>0.0000</td>\n",
              "      <td>0.0000</td>\n",
              "      <td>2.5645</td>\n",
              "      <td>0.0000</td>\n",
              "      <td>0.0000</td>\n",
              "      <td>0.9553</td>\n",
              "      <td>0.7411</td>\n",
              "      <td>0.0000</td>\n",
              "      <td>3.2706</td>\n",
              "      <td>0.0000</td>\n",
              "      <td>0.0000</td>\n",
              "      <td>0.0</td>\n",
              "      <td>1.1328</td>\n",
              "      <td>0.0000</td>\n",
              "      <td>0.6718</td>\n",
              "      <td>0.0000</td>\n",
              "      <td>0.0000</td>\n",
              "      <td>0.0000</td>\n",
              "      <td>0.0000</td>\n",
              "      <td>0.0</td>\n",
              "      <td>1.1745</td>\n",
              "      <td>0.0000</td>\n",
              "      <td>0.0000</td>\n",
              "      <td>0.0000</td>\n",
              "      <td>0.0000</td>\n",
              "    </tr>\n",
              "    <tr>\n",
              "      <th>1</th>\n",
              "      <td>RP11-433M22.1</td>\n",
              "      <td>0.0000</td>\n",
              "      <td>0.0000</td>\n",
              "      <td>0.0000</td>\n",
              "      <td>0.0000</td>\n",
              "      <td>0.0000</td>\n",
              "      <td>0.0000</td>\n",
              "      <td>0.0000</td>\n",
              "      <td>0.0000</td>\n",
              "      <td>0.0000</td>\n",
              "      <td>0.0000</td>\n",
              "      <td>0.0000</td>\n",
              "      <td>0.0000</td>\n",
              "      <td>0.000</td>\n",
              "      <td>0.0000</td>\n",
              "      <td>0.0000</td>\n",
              "      <td>0.0000</td>\n",
              "      <td>0.6147</td>\n",
              "      <td>0.0000</td>\n",
              "      <td>0.0000</td>\n",
              "      <td>0.0000</td>\n",
              "      <td>0.0000</td>\n",
              "      <td>0.0</td>\n",
              "      <td>0.0000</td>\n",
              "      <td>0.0000</td>\n",
              "      <td>0.0000</td>\n",
              "      <td>0.0000</td>\n",
              "      <td>0.0000</td>\n",
              "      <td>0.0000</td>\n",
              "      <td>0.0000</td>\n",
              "      <td>0.0000</td>\n",
              "      <td>0.0000</td>\n",
              "      <td>0.0000</td>\n",
              "      <td>0.0000</td>\n",
              "      <td>0.0000</td>\n",
              "      <td>0.0000</td>\n",
              "      <td>0.000</td>\n",
              "      <td>0.0000</td>\n",
              "      <td>0.0000</td>\n",
              "      <td>1.3212</td>\n",
              "      <td>...</td>\n",
              "      <td>0.0000</td>\n",
              "      <td>0.0000</td>\n",
              "      <td>0.0000</td>\n",
              "      <td>0.0000</td>\n",
              "      <td>0.0000</td>\n",
              "      <td>0.0000</td>\n",
              "      <td>0.0000</td>\n",
              "      <td>0.0000</td>\n",
              "      <td>0.0000</td>\n",
              "      <td>0.0</td>\n",
              "      <td>0.0000</td>\n",
              "      <td>0.0000</td>\n",
              "      <td>0.0000</td>\n",
              "      <td>0.0</td>\n",
              "      <td>0.5467</td>\n",
              "      <td>0.0000</td>\n",
              "      <td>0.0000</td>\n",
              "      <td>0.0000</td>\n",
              "      <td>0.0000</td>\n",
              "      <td>0.0000</td>\n",
              "      <td>0.0000</td>\n",
              "      <td>0.0000</td>\n",
              "      <td>0.0000</td>\n",
              "      <td>0.0000</td>\n",
              "      <td>0.0000</td>\n",
              "      <td>0.0000</td>\n",
              "      <td>0.0</td>\n",
              "      <td>0.0000</td>\n",
              "      <td>0.0000</td>\n",
              "      <td>0.0000</td>\n",
              "      <td>0.0000</td>\n",
              "      <td>0.0000</td>\n",
              "      <td>0.0000</td>\n",
              "      <td>0.0000</td>\n",
              "      <td>0.0</td>\n",
              "      <td>0.0000</td>\n",
              "      <td>0.0000</td>\n",
              "      <td>0.0000</td>\n",
              "      <td>0.0000</td>\n",
              "      <td>0.0000</td>\n",
              "    </tr>\n",
              "    <tr>\n",
              "      <th>2</th>\n",
              "      <td>CTD-2588J6.2</td>\n",
              "      <td>0.0000</td>\n",
              "      <td>0.0000</td>\n",
              "      <td>0.0000</td>\n",
              "      <td>0.0000</td>\n",
              "      <td>0.0000</td>\n",
              "      <td>0.0000</td>\n",
              "      <td>0.0000</td>\n",
              "      <td>0.0000</td>\n",
              "      <td>0.0000</td>\n",
              "      <td>0.0000</td>\n",
              "      <td>0.0000</td>\n",
              "      <td>0.0000</td>\n",
              "      <td>0.000</td>\n",
              "      <td>0.0000</td>\n",
              "      <td>0.0000</td>\n",
              "      <td>0.0000</td>\n",
              "      <td>0.0000</td>\n",
              "      <td>0.0000</td>\n",
              "      <td>0.0000</td>\n",
              "      <td>0.0000</td>\n",
              "      <td>0.0000</td>\n",
              "      <td>0.0</td>\n",
              "      <td>0.0000</td>\n",
              "      <td>0.0000</td>\n",
              "      <td>0.0000</td>\n",
              "      <td>0.0000</td>\n",
              "      <td>0.0000</td>\n",
              "      <td>0.0000</td>\n",
              "      <td>0.0000</td>\n",
              "      <td>0.0000</td>\n",
              "      <td>0.0000</td>\n",
              "      <td>0.0000</td>\n",
              "      <td>0.0000</td>\n",
              "      <td>0.0000</td>\n",
              "      <td>0.0000</td>\n",
              "      <td>0.000</td>\n",
              "      <td>0.0000</td>\n",
              "      <td>0.0000</td>\n",
              "      <td>0.0000</td>\n",
              "      <td>...</td>\n",
              "      <td>0.0000</td>\n",
              "      <td>0.0000</td>\n",
              "      <td>0.0000</td>\n",
              "      <td>0.0000</td>\n",
              "      <td>0.0000</td>\n",
              "      <td>0.0000</td>\n",
              "      <td>0.0000</td>\n",
              "      <td>0.0000</td>\n",
              "      <td>0.0000</td>\n",
              "      <td>0.0</td>\n",
              "      <td>0.0000</td>\n",
              "      <td>0.0000</td>\n",
              "      <td>0.0000</td>\n",
              "      <td>0.0</td>\n",
              "      <td>0.0000</td>\n",
              "      <td>0.0000</td>\n",
              "      <td>0.0000</td>\n",
              "      <td>0.0000</td>\n",
              "      <td>0.0000</td>\n",
              "      <td>0.0000</td>\n",
              "      <td>0.0000</td>\n",
              "      <td>0.0000</td>\n",
              "      <td>0.0000</td>\n",
              "      <td>0.0000</td>\n",
              "      <td>0.0000</td>\n",
              "      <td>0.0000</td>\n",
              "      <td>0.0</td>\n",
              "      <td>0.0000</td>\n",
              "      <td>0.0000</td>\n",
              "      <td>0.0000</td>\n",
              "      <td>0.0000</td>\n",
              "      <td>0.0000</td>\n",
              "      <td>0.0000</td>\n",
              "      <td>0.0000</td>\n",
              "      <td>0.0</td>\n",
              "      <td>0.0000</td>\n",
              "      <td>0.0000</td>\n",
              "      <td>0.0000</td>\n",
              "      <td>0.0000</td>\n",
              "      <td>0.0000</td>\n",
              "    </tr>\n",
              "    <tr>\n",
              "      <th>3</th>\n",
              "      <td>RP3-415N12.1</td>\n",
              "      <td>1.2246</td>\n",
              "      <td>0.0000</td>\n",
              "      <td>0.0000</td>\n",
              "      <td>0.0000</td>\n",
              "      <td>0.6597</td>\n",
              "      <td>6.2827</td>\n",
              "      <td>0.0000</td>\n",
              "      <td>0.0000</td>\n",
              "      <td>0.5619</td>\n",
              "      <td>0.0000</td>\n",
              "      <td>0.7678</td>\n",
              "      <td>0.0000</td>\n",
              "      <td>0.000</td>\n",
              "      <td>0.0000</td>\n",
              "      <td>0.0000</td>\n",
              "      <td>4.2614</td>\n",
              "      <td>2.7747</td>\n",
              "      <td>0.0000</td>\n",
              "      <td>0.0000</td>\n",
              "      <td>1.0863</td>\n",
              "      <td>0.6471</td>\n",
              "      <td>0.0</td>\n",
              "      <td>2.3106</td>\n",
              "      <td>0.9113</td>\n",
              "      <td>0.6641</td>\n",
              "      <td>0.0000</td>\n",
              "      <td>0.0000</td>\n",
              "      <td>0.0000</td>\n",
              "      <td>0.0000</td>\n",
              "      <td>1.9468</td>\n",
              "      <td>0.0000</td>\n",
              "      <td>0.0000</td>\n",
              "      <td>0.0000</td>\n",
              "      <td>0.0000</td>\n",
              "      <td>0.0000</td>\n",
              "      <td>1.157</td>\n",
              "      <td>0.7540</td>\n",
              "      <td>0.0000</td>\n",
              "      <td>0.5846</td>\n",
              "      <td>...</td>\n",
              "      <td>0.0000</td>\n",
              "      <td>0.6304</td>\n",
              "      <td>0.0000</td>\n",
              "      <td>0.0000</td>\n",
              "      <td>0.8506</td>\n",
              "      <td>0.0000</td>\n",
              "      <td>1.1992</td>\n",
              "      <td>0.0000</td>\n",
              "      <td>1.0832</td>\n",
              "      <td>0.0</td>\n",
              "      <td>0.0000</td>\n",
              "      <td>1.1257</td>\n",
              "      <td>0.4759</td>\n",
              "      <td>0.0</td>\n",
              "      <td>0.0000</td>\n",
              "      <td>0.0000</td>\n",
              "      <td>0.0000</td>\n",
              "      <td>2.1735</td>\n",
              "      <td>1.1639</td>\n",
              "      <td>0.0000</td>\n",
              "      <td>0.5553</td>\n",
              "      <td>1.2284</td>\n",
              "      <td>0.0000</td>\n",
              "      <td>2.1571</td>\n",
              "      <td>1.1570</td>\n",
              "      <td>1.3733</td>\n",
              "      <td>0.0</td>\n",
              "      <td>1.9936</td>\n",
              "      <td>0.0000</td>\n",
              "      <td>0.0000</td>\n",
              "      <td>0.0000</td>\n",
              "      <td>0.0000</td>\n",
              "      <td>0.0000</td>\n",
              "      <td>0.0000</td>\n",
              "      <td>0.0</td>\n",
              "      <td>1.5289</td>\n",
              "      <td>2.7234</td>\n",
              "      <td>0.0000</td>\n",
              "      <td>0.0000</td>\n",
              "      <td>0.0000</td>\n",
              "    </tr>\n",
              "    <tr>\n",
              "      <th>4</th>\n",
              "      <td>RP11-16E12.2</td>\n",
              "      <td>3.1734</td>\n",
              "      <td>4.2488</td>\n",
              "      <td>1.7038</td>\n",
              "      <td>6.7294</td>\n",
              "      <td>3.5869</td>\n",
              "      <td>5.0223</td>\n",
              "      <td>2.5437</td>\n",
              "      <td>6.7584</td>\n",
              "      <td>6.6983</td>\n",
              "      <td>3.2278</td>\n",
              "      <td>2.1743</td>\n",
              "      <td>4.6485</td>\n",
              "      <td>3.017</td>\n",
              "      <td>9.9893</td>\n",
              "      <td>3.1188</td>\n",
              "      <td>7.4127</td>\n",
              "      <td>2.6581</td>\n",
              "      <td>2.4978</td>\n",
              "      <td>2.0899</td>\n",
              "      <td>4.2880</td>\n",
              "      <td>3.9742</td>\n",
              "      <td>0.0</td>\n",
              "      <td>6.6537</td>\n",
              "      <td>4.2851</td>\n",
              "      <td>5.8507</td>\n",
              "      <td>5.0004</td>\n",
              "      <td>3.5782</td>\n",
              "      <td>5.8343</td>\n",
              "      <td>1.4283</td>\n",
              "      <td>3.9331</td>\n",
              "      <td>1.0663</td>\n",
              "      <td>2.8767</td>\n",
              "      <td>5.9821</td>\n",
              "      <td>3.9474</td>\n",
              "      <td>1.6825</td>\n",
              "      <td>3.354</td>\n",
              "      <td>1.6132</td>\n",
              "      <td>2.1896</td>\n",
              "      <td>6.2372</td>\n",
              "      <td>...</td>\n",
              "      <td>4.3152</td>\n",
              "      <td>4.9350</td>\n",
              "      <td>1.0986</td>\n",
              "      <td>7.3158</td>\n",
              "      <td>0.8506</td>\n",
              "      <td>4.5237</td>\n",
              "      <td>1.5579</td>\n",
              "      <td>2.0519</td>\n",
              "      <td>0.0000</td>\n",
              "      <td>0.0</td>\n",
              "      <td>1.8166</td>\n",
              "      <td>4.7551</td>\n",
              "      <td>3.2027</td>\n",
              "      <td>0.0</td>\n",
              "      <td>4.9299</td>\n",
              "      <td>6.2535</td>\n",
              "      <td>0.6731</td>\n",
              "      <td>4.8969</td>\n",
              "      <td>2.7188</td>\n",
              "      <td>5.1151</td>\n",
              "      <td>5.8764</td>\n",
              "      <td>4.9009</td>\n",
              "      <td>3.9896</td>\n",
              "      <td>6.1156</td>\n",
              "      <td>3.7986</td>\n",
              "      <td>2.0639</td>\n",
              "      <td>0.0</td>\n",
              "      <td>3.7576</td>\n",
              "      <td>3.6766</td>\n",
              "      <td>6.7196</td>\n",
              "      <td>2.6947</td>\n",
              "      <td>3.4837</td>\n",
              "      <td>4.4897</td>\n",
              "      <td>6.6406</td>\n",
              "      <td>0.0</td>\n",
              "      <td>7.1540</td>\n",
              "      <td>4.7345</td>\n",
              "      <td>1.4916</td>\n",
              "      <td>5.2355</td>\n",
              "      <td>3.1346</td>\n",
              "    </tr>\n",
              "  </tbody>\n",
              "</table>\n",
              "<p>5 rows × 10536 columns</p>\n",
              "</div>"
            ],
            "text/plain": [
              "          sample  TCGA-S9-A7J2-01  ...  TCGA-DD-A115-01  TCGA-FV-A3I0-11\n",
              "0   CTD-2588J6.1           0.7385  ...           0.0000           0.0000\n",
              "1  RP11-433M22.1           0.0000  ...           0.0000           0.0000\n",
              "2   CTD-2588J6.2           0.0000  ...           0.0000           0.0000\n",
              "3   RP3-415N12.1           1.2246  ...           0.0000           0.0000\n",
              "4   RP11-16E12.2           3.1734  ...           5.2355           3.1346\n",
              "\n",
              "[5 rows x 10536 columns]"
            ]
          },
          "metadata": {
            "tags": []
          },
          "execution_count": 7
        }
      ]
    },
    {
      "cell_type": "code",
      "metadata": {
        "id": "P0c_d1nWXTNc",
        "outputId": "53d7b01d-827d-4c36-c528-c6d5b72f65fd",
        "colab": {
          "base_uri": "https://localhost:8080/"
        }
      },
      "source": [
        "#checking if there are any missing values luckily we dont have any missig values :)\n",
        "data.isnull().any().sum()"
      ],
      "execution_count": null,
      "outputs": [
        {
          "output_type": "execute_result",
          "data": {
            "text/plain": [
              "0"
            ]
          },
          "metadata": {
            "tags": []
          },
          "execution_count": 8
        }
      ]
    },
    {
      "cell_type": "markdown",
      "metadata": {
        "id": "c2cHAbZ7GoJe"
      },
      "source": [
        "\n",
        "\n",
        "\n",
        "*   check what kind of datatypes are in dataset.\n",
        "*   First we see the cols which are not numerical\n",
        "*   only sample column is having non-numerial value \n",
        "\n",
        "\n",
        "\n",
        "\n",
        "\n",
        "\n",
        "\n"
      ]
    },
    {
      "cell_type": "code",
      "metadata": {
        "id": "9oxIfFBssCZu",
        "outputId": "11880b17-8f22-45ec-ccd3-015ed5d77b06",
        "colab": {
          "base_uri": "https://localhost:8080/",
          "height": 402
        }
      },
      "source": [
        "data_object=data.select_dtypes(include=['object']) \n",
        "data_object"
      ],
      "execution_count": null,
      "outputs": [
        {
          "output_type": "execute_result",
          "data": {
            "text/html": [
              "<div>\n",
              "<style scoped>\n",
              "    .dataframe tbody tr th:only-of-type {\n",
              "        vertical-align: middle;\n",
              "    }\n",
              "\n",
              "    .dataframe tbody tr th {\n",
              "        vertical-align: top;\n",
              "    }\n",
              "\n",
              "    .dataframe thead th {\n",
              "        text-align: right;\n",
              "    }\n",
              "</style>\n",
              "<table border=\"1\" class=\"dataframe\">\n",
              "  <thead>\n",
              "    <tr style=\"text-align: right;\">\n",
              "      <th></th>\n",
              "      <th>sample</th>\n",
              "    </tr>\n",
              "  </thead>\n",
              "  <tbody>\n",
              "    <tr>\n",
              "      <th>0</th>\n",
              "      <td>CTD-2588J6.1</td>\n",
              "    </tr>\n",
              "    <tr>\n",
              "      <th>1</th>\n",
              "      <td>RP11-433M22.1</td>\n",
              "    </tr>\n",
              "    <tr>\n",
              "      <th>2</th>\n",
              "      <td>CTD-2588J6.2</td>\n",
              "    </tr>\n",
              "    <tr>\n",
              "      <th>3</th>\n",
              "      <td>RP3-415N12.1</td>\n",
              "    </tr>\n",
              "    <tr>\n",
              "      <th>4</th>\n",
              "      <td>RP11-16E12.2</td>\n",
              "    </tr>\n",
              "    <tr>\n",
              "      <th>...</th>\n",
              "      <td>...</td>\n",
              "    </tr>\n",
              "    <tr>\n",
              "      <th>58576</th>\n",
              "      <td>SELV</td>\n",
              "    </tr>\n",
              "    <tr>\n",
              "      <th>58577</th>\n",
              "      <td>NFIX</td>\n",
              "    </tr>\n",
              "    <tr>\n",
              "      <th>58578</th>\n",
              "      <td>SELP</td>\n",
              "    </tr>\n",
              "    <tr>\n",
              "      <th>58579</th>\n",
              "      <td>AC002386.1</td>\n",
              "    </tr>\n",
              "    <tr>\n",
              "      <th>58580</th>\n",
              "      <td>RP11-526P5.2</td>\n",
              "    </tr>\n",
              "  </tbody>\n",
              "</table>\n",
              "<p>58581 rows × 1 columns</p>\n",
              "</div>"
            ],
            "text/plain": [
              "              sample\n",
              "0       CTD-2588J6.1\n",
              "1      RP11-433M22.1\n",
              "2       CTD-2588J6.2\n",
              "3       RP3-415N12.1\n",
              "4       RP11-16E12.2\n",
              "...              ...\n",
              "58576           SELV\n",
              "58577           NFIX\n",
              "58578           SELP\n",
              "58579     AC002386.1\n",
              "58580   RP11-526P5.2\n",
              "\n",
              "[58581 rows x 1 columns]"
            ]
          },
          "metadata": {
            "tags": []
          },
          "execution_count": 9
        }
      ]
    },
    {
      "cell_type": "code",
      "metadata": {
        "id": "SK_2DnsYj1jb"
      },
      "source": [
        "data_float = data.select_dtypes(include=['float64'])"
      ],
      "execution_count": null,
      "outputs": []
    },
    {
      "cell_type": "code",
      "metadata": {
        "id": "tfaWCAeenkvi",
        "outputId": "7d9fe3a8-100c-4515-9c30-0f300cdf12a9",
        "colab": {
          "base_uri": "https://localhost:8080/"
        }
      },
      "source": [
        "column_names = list(data_float.columns.values)\n",
        "column_names[0],len(column_names)\n"
      ],
      "execution_count": null,
      "outputs": [
        {
          "output_type": "execute_result",
          "data": {
            "text/plain": [
              "('TCGA-S9-A7J2-01', 10535)"
            ]
          },
          "metadata": {
            "tags": []
          },
          "execution_count": 11
        }
      ]
    },
    {
      "cell_type": "code",
      "metadata": {
        "id": "RENYDELEAYpC",
        "outputId": "be12207f-4494-4e76-e8be-2f0cb921b644",
        "colab": {
          "base_uri": "https://localhost:8080/",
          "height": 384
        }
      },
      "source": [
        "label_x=[s[-2:] for s in column_names if s[-2:] not in (\"10\",\"11\",\"20\")]\n",
        "label_x[0]\n",
        "labels={}\n",
        "for i in label_x:\n",
        "  if int(i) in labels:\n",
        "    labels[int(i)]+=1\n",
        "  else:\n",
        "    labels[int(i)]=1\n",
        "print(\"Cancer Labels:\" ,labels)\n",
        "print(\"With cancer = {}, Without Cancer = {}\".format(sum(labels.values()),len(column_names)-sum(labels.values())))\n",
        "labels_temp=list(labels.keys())\n",
        "values_temp=list(labels.values())\n",
        "fig = plt.figure(figsize = (10, 5)) \n",
        "# creating the bar plot \n",
        "plt.bar(labels_temp, values_temp, color ='r',width = 0.8) \n",
        "  \n",
        "plt.xlabel(\"Cancer\") \n",
        "plt.ylabel(\"Toatal no. of patients\") \n",
        "plt.title(\"Patients having Cancer\") \n",
        "plt.show()"
      ],
      "execution_count": null,
      "outputs": [
        {
          "output_type": "stream",
          "text": [
            "Cancer Labels: {1: 9186, 3: 173, 6: 392, 2: 44, 5: 11, 7: 1}\n",
            "With cancer = 9807, Without Cancer = 728\n"
          ],
          "name": "stdout"
        },
        {
          "output_type": "display_data",
          "data": {
            "image/png": "[encoded data removed]",
            "text/plain": [
              "<Figure size 720x360 with 1 Axes>"
            ]
          },
          "metadata": {
            "tags": [],
            "needs_background": "light"
          }
        }
      ]
    },
    {
      "cell_type": "code",
      "metadata": {
        "id": "oSUKr9NhzX5j",
        "outputId": "982bd275-deee-4988-d24c-b762cb8cf4fd",
        "colab": {
          "base_uri": "https://localhost:8080/"
        }
      },
      "source": [
        "label = [s[-2:] for s in column_names]\n",
        "print(len(label))"
      ],
      "execution_count": null,
      "outputs": [
        {
          "output_type": "stream",
          "text": [
            "10535\n"
          ],
          "name": "stdout"
        }
      ]
    },
    {
      "cell_type": "code",
      "metadata": {
        "id": "CFFX_ETn6fSi",
        "outputId": "a816694d-2ef4-4d68-fd31-c29209f1f0f9",
        "colab": {
          "base_uri": "https://localhost:8080/"
        }
      },
      "source": [
        "label = [0 if s in ('01', '02', '03', '04', '05', '06', '07', '08', '09') else 1 for s in label]\n",
        "print (label.count(0)) #cancer (9807)\n",
        "print (label.count(1)) #non-cancer (728)"
      ],
      "execution_count": null,
      "outputs": [
        {
          "output_type": "stream",
          "text": [
            "9807\n",
            "728\n"
          ],
          "name": "stdout"
        }
      ]
    },
    {
      "cell_type": "markdown",
      "metadata": {
        "id": "kNDpGy8o7idY"
      },
      "source": [
        "**Plotting** **Labels**"
      ]
    },
    {
      "cell_type": "code",
      "metadata": {
        "id": "OgVM-Uw67de_",
        "outputId": "5106da55-ba37-420d-b688-02fbe7cd09aa",
        "colab": {
          "base_uri": "https://localhost:8080/",
          "height": 350
        }
      },
      "source": [
        "data={\"Cancer\":label.count(0),\n",
        "      \"Non-Cancer\":label.count(1)}\n",
        "labels=list(data.keys())\n",
        "values=list(data.values())\n",
        "fig = plt.figure(figsize = (10, 5)) \n",
        "# creating the bar plot \n",
        "plt.bar(labels, values, color ='r',width = 0.4) \n",
        "  \n",
        "plt.xlabel(\"Cancer/Non-Cancer\") \n",
        "plt.ylabel(\"Toatal no. of patients\") \n",
        "plt.title(\"Patients having Cancer/Non-cancer.\") \n",
        "plt.show()"
      ],
      "execution_count": null,
      "outputs": [
        {
          "output_type": "display_data",
          "data": {
            "image/png": "[encoded data removed]",
            "text/plain": [
              "<Figure size 720x360 with 1 Axes>"
            ]
          },
          "metadata": {
            "tags": [],
            "needs_background": "light"
          }
        }
      ]
    },
    {
      "cell_type": "markdown",
      "metadata": {
        "id": "YOtgDDolFSyX"
      },
      "source": [
        "**splitting the data randomly into training and test set**\n",
        "\n",
        "**Training set = 0.80, Testing set = 0.20**\n",
        "\n"
      ]
    },
    {
      "cell_type": "code",
      "metadata": {
        "id": "OttH0uUDzagQ"
      },
      "source": [
        "random.seed(500)\n",
        "data_index = random.sample(range(0, len(label)), 8500)\n",
        "X_train,Y_train = [data_float.iloc[:,j] for j in data_index],[label[j] for j in data_index]\n",
        "X_test = [data_float.iloc[:,j] for j in range(0, len(label)) if j not in data_index]\n",
        "Y_test = [label[j] for j in range(0, len(label)) if j not in data_index]"
      ],
      "execution_count": null,
      "outputs": []
    },
    {
      "cell_type": "code",
      "metadata": {
        "id": "8VvA4j-9aGsI",
        "outputId": "696bd82f-5200-461b-b13d-243898c47abb",
        "colab": {
          "base_uri": "https://localhost:8080/",
          "height": 294
        }
      },
      "source": [
        "data_float.head()"
      ],
      "execution_count": null,
      "outputs": [
        {
          "output_type": "execute_result",
          "data": {
            "text/html": [
              "<div>\n",
              "<style scoped>\n",
              "    .dataframe tbody tr th:only-of-type {\n",
              "        vertical-align: middle;\n",
              "    }\n",
              "\n",
              "    .dataframe tbody tr th {\n",
              "        vertical-align: top;\n",
              "    }\n",
              "\n",
              "    .dataframe thead th {\n",
              "        text-align: right;\n",
              "    }\n",
              "</style>\n",
              "<table border=\"1\" class=\"dataframe\">\n",
              "  <thead>\n",
              "    <tr style=\"text-align: right;\">\n",
              "      <th></th>\n",
              "      <th>TCGA-S9-A7J2-01</th>\n",
              "      <th>TCGA-G3-A3CH-11</th>\n",
              "      <th>TCGA-EK-A2RE-01</th>\n",
              "      <th>TCGA-44-6778-01</th>\n",
              "      <th>TCGA-F4-6854-01</th>\n",
              "      <th>TCGA-AB-2863-03</th>\n",
              "      <th>TCGA-C8-A1HL-01</th>\n",
              "      <th>TCGA-EW-A2FS-01</th>\n",
              "      <th>TCGA-05-4420-01</th>\n",
              "      <th>TCGA-2G-AAFZ-01</th>\n",
              "      <th>TCGA-DX-A3U8-01</th>\n",
              "      <th>TCGA-GL-8500-01</th>\n",
              "      <th>TCGA-CC-A3MA-01</th>\n",
              "      <th>TCGA-BR-A4J6-01</th>\n",
              "      <th>TCGA-KK-A6E4-01</th>\n",
              "      <th>TCGA-IN-7808-01</th>\n",
              "      <th>TCGA-L5-A4OH-01</th>\n",
              "      <th>TCGA-RP-A695-06</th>\n",
              "      <th>TCGA-A4-7828-01</th>\n",
              "      <th>TCGA-B9-A8YH-01</th>\n",
              "      <th>TCGA-E1-A7YI-01</th>\n",
              "      <th>TCGA-PC-A5DM-01</th>\n",
              "      <th>TCGA-BR-A4QL-01</th>\n",
              "      <th>TCGA-CH-5751-01</th>\n",
              "      <th>TCGA-A2-A3XX-01</th>\n",
              "      <th>TCGA-DQ-5624-01</th>\n",
              "      <th>TCGA-KK-A7B3-01</th>\n",
              "      <th>TCGA-DQ-7591-01</th>\n",
              "      <th>TCGA-06-5412-01</th>\n",
              "      <th>TCGA-BP-4989-01</th>\n",
              "      <th>TCGA-EJ-8468-01</th>\n",
              "      <th>TCGA-CZ-5459-01</th>\n",
              "      <th>TCGA-D5-5538-01</th>\n",
              "      <th>TCGA-KP-A3W3-01</th>\n",
              "      <th>TCGA-CZ-5468-11</th>\n",
              "      <th>TCGA-BH-A0BQ-11</th>\n",
              "      <th>TCGA-4X-A9FA-01</th>\n",
              "      <th>TCGA-DD-AAW0-01</th>\n",
              "      <th>TCGA-BR-4292-01</th>\n",
              "      <th>TCGA-AA-3511-01</th>\n",
              "      <th>...</th>\n",
              "      <th>TCGA-13-0725-01</th>\n",
              "      <th>TCGA-95-7947-01</th>\n",
              "      <th>TCGA-A8-A090-01</th>\n",
              "      <th>TCGA-BB-4217-01</th>\n",
              "      <th>TCGA-5T-A9QA-01</th>\n",
              "      <th>TCGA-TN-A7HJ-01</th>\n",
              "      <th>TCGA-AN-A0XT-01</th>\n",
              "      <th>TCGA-TS-A8AS-01</th>\n",
              "      <th>TCGA-J4-8198-01</th>\n",
              "      <th>TCGA-OR-A5JS-01</th>\n",
              "      <th>TCGA-EE-A29L-06</th>\n",
              "      <th>TCGA-4X-A9F9-01</th>\n",
              "      <th>TCGA-C5-A1BJ-01</th>\n",
              "      <th>TCGA-G2-AA3C-01</th>\n",
              "      <th>TCGA-HU-8602-01</th>\n",
              "      <th>TCGA-CR-6470-01</th>\n",
              "      <th>TCGA-CH-5768-01</th>\n",
              "      <th>TCGA-2H-A9GM-01</th>\n",
              "      <th>TCGA-XH-A853-01</th>\n",
              "      <th>TCGA-CM-4751-01</th>\n",
              "      <th>TCGA-AO-A0J4-01</th>\n",
              "      <th>TCGA-55-6985-11</th>\n",
              "      <th>TCGA-2Y-A9H2-01</th>\n",
              "      <th>TCGA-BR-8368-01</th>\n",
              "      <th>TCGA-77-6844-01</th>\n",
              "      <th>TCGA-IN-AB1X-11</th>\n",
              "      <th>TCGA-CS-4944-01</th>\n",
              "      <th>TCGA-A2-A0YK-01</th>\n",
              "      <th>TCGA-18-3414-01</th>\n",
              "      <th>TCGA-13-1481-01</th>\n",
              "      <th>TCGA-DJ-A2QC-01</th>\n",
              "      <th>TCGA-A8-A09K-01</th>\n",
              "      <th>TCGA-61-1907-01</th>\n",
              "      <th>TCGA-IB-7885-01</th>\n",
              "      <th>TCGA-B6-A0IA-01</th>\n",
              "      <th>TCGA-VQ-AA6F-01</th>\n",
              "      <th>TCGA-BR-8588-01</th>\n",
              "      <th>TCGA-24-2254-01</th>\n",
              "      <th>TCGA-DD-A115-01</th>\n",
              "      <th>TCGA-FV-A3I0-11</th>\n",
              "    </tr>\n",
              "  </thead>\n",
              "  <tbody>\n",
              "    <tr>\n",
              "      <th>0</th>\n",
              "      <td>0.7385</td>\n",
              "      <td>0.0000</td>\n",
              "      <td>0.0000</td>\n",
              "      <td>0.0000</td>\n",
              "      <td>0.0000</td>\n",
              "      <td>1.1763</td>\n",
              "      <td>0.0000</td>\n",
              "      <td>0.0000</td>\n",
              "      <td>0.9652</td>\n",
              "      <td>0.0000</td>\n",
              "      <td>0.0000</td>\n",
              "      <td>0.0000</td>\n",
              "      <td>0.000</td>\n",
              "      <td>1.1172</td>\n",
              "      <td>0.0000</td>\n",
              "      <td>3.0766</td>\n",
              "      <td>2.5313</td>\n",
              "      <td>0.0000</td>\n",
              "      <td>0.0000</td>\n",
              "      <td>0.0000</td>\n",
              "      <td>0.0000</td>\n",
              "      <td>0.0</td>\n",
              "      <td>1.5756</td>\n",
              "      <td>0.0000</td>\n",
              "      <td>0.0000</td>\n",
              "      <td>0.0000</td>\n",
              "      <td>0.0000</td>\n",
              "      <td>2.9498</td>\n",
              "      <td>0.0000</td>\n",
              "      <td>0.0000</td>\n",
              "      <td>0.0000</td>\n",
              "      <td>0.0000</td>\n",
              "      <td>0.0000</td>\n",
              "      <td>0.0000</td>\n",
              "      <td>0.0000</td>\n",
              "      <td>0.000</td>\n",
              "      <td>0.0000</td>\n",
              "      <td>0.0000</td>\n",
              "      <td>1.9991</td>\n",
              "      <td>0.0000</td>\n",
              "      <td>...</td>\n",
              "      <td>0.0000</td>\n",
              "      <td>0.0000</td>\n",
              "      <td>0.0000</td>\n",
              "      <td>1.8900</td>\n",
              "      <td>0.0000</td>\n",
              "      <td>0.0000</td>\n",
              "      <td>0.0000</td>\n",
              "      <td>0.0000</td>\n",
              "      <td>0.0000</td>\n",
              "      <td>0.0</td>\n",
              "      <td>0.0000</td>\n",
              "      <td>0.0000</td>\n",
              "      <td>0.8332</td>\n",
              "      <td>0.0</td>\n",
              "      <td>0.0000</td>\n",
              "      <td>0.0000</td>\n",
              "      <td>0.0000</td>\n",
              "      <td>2.5645</td>\n",
              "      <td>0.0000</td>\n",
              "      <td>0.0000</td>\n",
              "      <td>0.9553</td>\n",
              "      <td>0.7411</td>\n",
              "      <td>0.0000</td>\n",
              "      <td>3.2706</td>\n",
              "      <td>0.0000</td>\n",
              "      <td>0.0000</td>\n",
              "      <td>0.0</td>\n",
              "      <td>1.1328</td>\n",
              "      <td>0.0000</td>\n",
              "      <td>0.6718</td>\n",
              "      <td>0.0000</td>\n",
              "      <td>0.0000</td>\n",
              "      <td>0.0000</td>\n",
              "      <td>0.0000</td>\n",
              "      <td>0.0</td>\n",
              "      <td>1.1745</td>\n",
              "      <td>0.0000</td>\n",
              "      <td>0.0000</td>\n",
              "      <td>0.0000</td>\n",
              "      <td>0.0000</td>\n",
              "    </tr>\n",
              "    <tr>\n",
              "      <th>1</th>\n",
              "      <td>0.0000</td>\n",
              "      <td>0.0000</td>\n",
              "      <td>0.0000</td>\n",
              "      <td>0.0000</td>\n",
              "      <td>0.0000</td>\n",
              "      <td>0.0000</td>\n",
              "      <td>0.0000</td>\n",
              "      <td>0.0000</td>\n",
              "      <td>0.0000</td>\n",
              "      <td>0.0000</td>\n",
              "      <td>0.0000</td>\n",
              "      <td>0.0000</td>\n",
              "      <td>0.000</td>\n",
              "      <td>0.0000</td>\n",
              "      <td>0.0000</td>\n",
              "      <td>0.0000</td>\n",
              "      <td>0.6147</td>\n",
              "      <td>0.0000</td>\n",
              "      <td>0.0000</td>\n",
              "      <td>0.0000</td>\n",
              "      <td>0.0000</td>\n",
              "      <td>0.0</td>\n",
              "      <td>0.0000</td>\n",
              "      <td>0.0000</td>\n",
              "      <td>0.0000</td>\n",
              "      <td>0.0000</td>\n",
              "      <td>0.0000</td>\n",
              "      <td>0.0000</td>\n",
              "      <td>0.0000</td>\n",
              "      <td>0.0000</td>\n",
              "      <td>0.0000</td>\n",
              "      <td>0.0000</td>\n",
              "      <td>0.0000</td>\n",
              "      <td>0.0000</td>\n",
              "      <td>0.0000</td>\n",
              "      <td>0.000</td>\n",
              "      <td>0.0000</td>\n",
              "      <td>0.0000</td>\n",
              "      <td>1.3212</td>\n",
              "      <td>0.0000</td>\n",
              "      <td>...</td>\n",
              "      <td>0.0000</td>\n",
              "      <td>0.0000</td>\n",
              "      <td>0.0000</td>\n",
              "      <td>0.0000</td>\n",
              "      <td>0.0000</td>\n",
              "      <td>0.0000</td>\n",
              "      <td>0.0000</td>\n",
              "      <td>0.0000</td>\n",
              "      <td>0.0000</td>\n",
              "      <td>0.0</td>\n",
              "      <td>0.0000</td>\n",
              "      <td>0.0000</td>\n",
              "      <td>0.0000</td>\n",
              "      <td>0.0</td>\n",
              "      <td>0.5467</td>\n",
              "      <td>0.0000</td>\n",
              "      <td>0.0000</td>\n",
              "      <td>0.0000</td>\n",
              "      <td>0.0000</td>\n",
              "      <td>0.0000</td>\n",
              "      <td>0.0000</td>\n",
              "      <td>0.0000</td>\n",
              "      <td>0.0000</td>\n",
              "      <td>0.0000</td>\n",
              "      <td>0.0000</td>\n",
              "      <td>0.0000</td>\n",
              "      <td>0.0</td>\n",
              "      <td>0.0000</td>\n",
              "      <td>0.0000</td>\n",
              "      <td>0.0000</td>\n",
              "      <td>0.0000</td>\n",
              "      <td>0.0000</td>\n",
              "      <td>0.0000</td>\n",
              "      <td>0.0000</td>\n",
              "      <td>0.0</td>\n",
              "      <td>0.0000</td>\n",
              "      <td>0.0000</td>\n",
              "      <td>0.0000</td>\n",
              "      <td>0.0000</td>\n",
              "      <td>0.0000</td>\n",
              "    </tr>\n",
              "    <tr>\n",
              "      <th>2</th>\n",
              "      <td>0.0000</td>\n",
              "      <td>0.0000</td>\n",
              "      <td>0.0000</td>\n",
              "      <td>0.0000</td>\n",
              "      <td>0.0000</td>\n",
              "      <td>0.0000</td>\n",
              "      <td>0.0000</td>\n",
              "      <td>0.0000</td>\n",
              "      <td>0.0000</td>\n",
              "      <td>0.0000</td>\n",
              "      <td>0.0000</td>\n",
              "      <td>0.0000</td>\n",
              "      <td>0.000</td>\n",
              "      <td>0.0000</td>\n",
              "      <td>0.0000</td>\n",
              "      <td>0.0000</td>\n",
              "      <td>0.0000</td>\n",
              "      <td>0.0000</td>\n",
              "      <td>0.0000</td>\n",
              "      <td>0.0000</td>\n",
              "      <td>0.0000</td>\n",
              "      <td>0.0</td>\n",
              "      <td>0.0000</td>\n",
              "      <td>0.0000</td>\n",
              "      <td>0.0000</td>\n",
              "      <td>0.0000</td>\n",
              "      <td>0.0000</td>\n",
              "      <td>0.0000</td>\n",
              "      <td>0.0000</td>\n",
              "      <td>0.0000</td>\n",
              "      <td>0.0000</td>\n",
              "      <td>0.0000</td>\n",
              "      <td>0.0000</td>\n",
              "      <td>0.0000</td>\n",
              "      <td>0.0000</td>\n",
              "      <td>0.000</td>\n",
              "      <td>0.0000</td>\n",
              "      <td>0.0000</td>\n",
              "      <td>0.0000</td>\n",
              "      <td>0.0000</td>\n",
              "      <td>...</td>\n",
              "      <td>0.0000</td>\n",
              "      <td>0.0000</td>\n",
              "      <td>0.0000</td>\n",
              "      <td>0.0000</td>\n",
              "      <td>0.0000</td>\n",
              "      <td>0.0000</td>\n",
              "      <td>0.0000</td>\n",
              "      <td>0.0000</td>\n",
              "      <td>0.0000</td>\n",
              "      <td>0.0</td>\n",
              "      <td>0.0000</td>\n",
              "      <td>0.0000</td>\n",
              "      <td>0.0000</td>\n",
              "      <td>0.0</td>\n",
              "      <td>0.0000</td>\n",
              "      <td>0.0000</td>\n",
              "      <td>0.0000</td>\n",
              "      <td>0.0000</td>\n",
              "      <td>0.0000</td>\n",
              "      <td>0.0000</td>\n",
              "      <td>0.0000</td>\n",
              "      <td>0.0000</td>\n",
              "      <td>0.0000</td>\n",
              "      <td>0.0000</td>\n",
              "      <td>0.0000</td>\n",
              "      <td>0.0000</td>\n",
              "      <td>0.0</td>\n",
              "      <td>0.0000</td>\n",
              "      <td>0.0000</td>\n",
              "      <td>0.0000</td>\n",
              "      <td>0.0000</td>\n",
              "      <td>0.0000</td>\n",
              "      <td>0.0000</td>\n",
              "      <td>0.0000</td>\n",
              "      <td>0.0</td>\n",
              "      <td>0.0000</td>\n",
              "      <td>0.0000</td>\n",
              "      <td>0.0000</td>\n",
              "      <td>0.0000</td>\n",
              "      <td>0.0000</td>\n",
              "    </tr>\n",
              "    <tr>\n",
              "      <th>3</th>\n",
              "      <td>1.2246</td>\n",
              "      <td>0.0000</td>\n",
              "      <td>0.0000</td>\n",
              "      <td>0.0000</td>\n",
              "      <td>0.6597</td>\n",
              "      <td>6.2827</td>\n",
              "      <td>0.0000</td>\n",
              "      <td>0.0000</td>\n",
              "      <td>0.5619</td>\n",
              "      <td>0.0000</td>\n",
              "      <td>0.7678</td>\n",
              "      <td>0.0000</td>\n",
              "      <td>0.000</td>\n",
              "      <td>0.0000</td>\n",
              "      <td>0.0000</td>\n",
              "      <td>4.2614</td>\n",
              "      <td>2.7747</td>\n",
              "      <td>0.0000</td>\n",
              "      <td>0.0000</td>\n",
              "      <td>1.0863</td>\n",
              "      <td>0.6471</td>\n",
              "      <td>0.0</td>\n",
              "      <td>2.3106</td>\n",
              "      <td>0.9113</td>\n",
              "      <td>0.6641</td>\n",
              "      <td>0.0000</td>\n",
              "      <td>0.0000</td>\n",
              "      <td>0.0000</td>\n",
              "      <td>0.0000</td>\n",
              "      <td>1.9468</td>\n",
              "      <td>0.0000</td>\n",
              "      <td>0.0000</td>\n",
              "      <td>0.0000</td>\n",
              "      <td>0.0000</td>\n",
              "      <td>0.0000</td>\n",
              "      <td>1.157</td>\n",
              "      <td>0.7540</td>\n",
              "      <td>0.0000</td>\n",
              "      <td>0.5846</td>\n",
              "      <td>0.7793</td>\n",
              "      <td>...</td>\n",
              "      <td>0.0000</td>\n",
              "      <td>0.6304</td>\n",
              "      <td>0.0000</td>\n",
              "      <td>0.0000</td>\n",
              "      <td>0.8506</td>\n",
              "      <td>0.0000</td>\n",
              "      <td>1.1992</td>\n",
              "      <td>0.0000</td>\n",
              "      <td>1.0832</td>\n",
              "      <td>0.0</td>\n",
              "      <td>0.0000</td>\n",
              "      <td>1.1257</td>\n",
              "      <td>0.4759</td>\n",
              "      <td>0.0</td>\n",
              "      <td>0.0000</td>\n",
              "      <td>0.0000</td>\n",
              "      <td>0.0000</td>\n",
              "      <td>2.1735</td>\n",
              "      <td>1.1639</td>\n",
              "      <td>0.0000</td>\n",
              "      <td>0.5553</td>\n",
              "      <td>1.2284</td>\n",
              "      <td>0.0000</td>\n",
              "      <td>2.1571</td>\n",
              "      <td>1.1570</td>\n",
              "      <td>1.3733</td>\n",
              "      <td>0.0</td>\n",
              "      <td>1.9936</td>\n",
              "      <td>0.0000</td>\n",
              "      <td>0.0000</td>\n",
              "      <td>0.0000</td>\n",
              "      <td>0.0000</td>\n",
              "      <td>0.0000</td>\n",
              "      <td>0.0000</td>\n",
              "      <td>0.0</td>\n",
              "      <td>1.5289</td>\n",
              "      <td>2.7234</td>\n",
              "      <td>0.0000</td>\n",
              "      <td>0.0000</td>\n",
              "      <td>0.0000</td>\n",
              "    </tr>\n",
              "    <tr>\n",
              "      <th>4</th>\n",
              "      <td>3.1734</td>\n",
              "      <td>4.2488</td>\n",
              "      <td>1.7038</td>\n",
              "      <td>6.7294</td>\n",
              "      <td>3.5869</td>\n",
              "      <td>5.0223</td>\n",
              "      <td>2.5437</td>\n",
              "      <td>6.7584</td>\n",
              "      <td>6.6983</td>\n",
              "      <td>3.2278</td>\n",
              "      <td>2.1743</td>\n",
              "      <td>4.6485</td>\n",
              "      <td>3.017</td>\n",
              "      <td>9.9893</td>\n",
              "      <td>3.1188</td>\n",
              "      <td>7.4127</td>\n",
              "      <td>2.6581</td>\n",
              "      <td>2.4978</td>\n",
              "      <td>2.0899</td>\n",
              "      <td>4.2880</td>\n",
              "      <td>3.9742</td>\n",
              "      <td>0.0</td>\n",
              "      <td>6.6537</td>\n",
              "      <td>4.2851</td>\n",
              "      <td>5.8507</td>\n",
              "      <td>5.0004</td>\n",
              "      <td>3.5782</td>\n",
              "      <td>5.8343</td>\n",
              "      <td>1.4283</td>\n",
              "      <td>3.9331</td>\n",
              "      <td>1.0663</td>\n",
              "      <td>2.8767</td>\n",
              "      <td>5.9821</td>\n",
              "      <td>3.9474</td>\n",
              "      <td>1.6825</td>\n",
              "      <td>3.354</td>\n",
              "      <td>1.6132</td>\n",
              "      <td>2.1896</td>\n",
              "      <td>6.2372</td>\n",
              "      <td>6.0008</td>\n",
              "      <td>...</td>\n",
              "      <td>4.3152</td>\n",
              "      <td>4.9350</td>\n",
              "      <td>1.0986</td>\n",
              "      <td>7.3158</td>\n",
              "      <td>0.8506</td>\n",
              "      <td>4.5237</td>\n",
              "      <td>1.5579</td>\n",
              "      <td>2.0519</td>\n",
              "      <td>0.0000</td>\n",
              "      <td>0.0</td>\n",
              "      <td>1.8166</td>\n",
              "      <td>4.7551</td>\n",
              "      <td>3.2027</td>\n",
              "      <td>0.0</td>\n",
              "      <td>4.9299</td>\n",
              "      <td>6.2535</td>\n",
              "      <td>0.6731</td>\n",
              "      <td>4.8969</td>\n",
              "      <td>2.7188</td>\n",
              "      <td>5.1151</td>\n",
              "      <td>5.8764</td>\n",
              "      <td>4.9009</td>\n",
              "      <td>3.9896</td>\n",
              "      <td>6.1156</td>\n",
              "      <td>3.7986</td>\n",
              "      <td>2.0639</td>\n",
              "      <td>0.0</td>\n",
              "      <td>3.7576</td>\n",
              "      <td>3.6766</td>\n",
              "      <td>6.7196</td>\n",
              "      <td>2.6947</td>\n",
              "      <td>3.4837</td>\n",
              "      <td>4.4897</td>\n",
              "      <td>6.6406</td>\n",
              "      <td>0.0</td>\n",
              "      <td>7.1540</td>\n",
              "      <td>4.7345</td>\n",
              "      <td>1.4916</td>\n",
              "      <td>5.2355</td>\n",
              "      <td>3.1346</td>\n",
              "    </tr>\n",
              "  </tbody>\n",
              "</table>\n",
              "<p>5 rows × 10535 columns</p>\n",
              "</div>"
            ],
            "text/plain": [
              "   TCGA-S9-A7J2-01  TCGA-G3-A3CH-11  ...  TCGA-DD-A115-01  TCGA-FV-A3I0-11\n",
              "0           0.7385           0.0000  ...           0.0000           0.0000\n",
              "1           0.0000           0.0000  ...           0.0000           0.0000\n",
              "2           0.0000           0.0000  ...           0.0000           0.0000\n",
              "3           1.2246           0.0000  ...           0.0000           0.0000\n",
              "4           3.1734           4.2488  ...           5.2355           3.1346\n",
              "\n",
              "[5 rows x 10535 columns]"
            ]
          },
          "metadata": {
            "tags": []
          },
          "execution_count": 17
        }
      ]
    },
    {
      "cell_type": "code",
      "metadata": {
        "id": "ymS6_P7Pzaql",
        "outputId": "fa222227-52ec-4e92-ddfa-c9d505414cb1",
        "colab": {
          "base_uri": "https://localhost:8080/"
        }
      },
      "source": [
        "print(Y_train.count(0))#7909\n",
        "print(Y_train.count(1))#591"
      ],
      "execution_count": null,
      "outputs": [
        {
          "output_type": "stream",
          "text": [
            "7909\n",
            "591\n"
          ],
          "name": "stdout"
        }
      ]
    },
    {
      "cell_type": "code",
      "metadata": {
        "id": "BsqdOckA8n8d",
        "outputId": "c5e6b4ae-3acf-46d9-b8d7-80677ddc74b2",
        "colab": {
          "base_uri": "https://localhost:8080/"
        }
      },
      "source": [
        "'''random.seed(500)\n",
        "data_index = random.sample(range(0, len(label)), 8500)\n",
        "X_train,Y_train = [data_float.iloc[:,j] for j in data_index],[label[j] for j in data_index]\n",
        "X_test = [data_float.iloc[:,j] for j in range(0, len(label)) if j not in data_index]\n",
        "Y_test = [label[j] for j in range(0, len(label)) if j not in data_index]'''\n",
        "\n",
        "def next_batch(num, data, labels):\n",
        "    '''\n",
        "    Return a total of `num` random samples and labels. \n",
        "    '''\n",
        "    #Xx,Yy = [data.iloc[:,j] for j in data_index],[labels[j] for j in data_index]\n",
        "    idx=list(range(0,len(data)))\n",
        "    random.shuffle(idx)\n",
        "    Xx=[data[ i] for i in idx]\n",
        "    Yy=[labels[ i] for i in idx]\n",
        "    \n",
        "    return Xx,Yy\n",
        "\n",
        "\n",
        "print(X_train[0])\n",
        "print(Y_train[0])\n",
        "bat=3\n",
        "#Xtr, Ytr = next_batch(bat, X_train, Y_train)\n",
        "print('\\n{} random samples'.format(bat))\n",
        "#print(Xtr)\n",
        "#print(Ytr)"
      ],
      "execution_count": null,
      "outputs": [
        {
          "output_type": "stream",
          "text": [
            "0         0.0000\n",
            "1         0.0000\n",
            "2         0.0000\n",
            "3         0.9789\n",
            "4         3.1321\n",
            "          ...   \n",
            "58576     0.0000\n",
            "58577    11.2118\n",
            "58578     7.0130\n",
            "58579     0.0000\n",
            "58580     0.0000\n",
            "Name: TCGA-B0-4828-01, Length: 58581, dtype: float64\n",
            "0\n",
            "\n",
            "3 random samples\n"
          ],
          "name": "stdout"
        }
      ]
    },
    {
      "cell_type": "code",
      "metadata": {
        "id": "DJwYr57ePgCb",
        "outputId": "b449e437-a8be-4a44-9a4d-2eb1ab165038",
        "colab": {
          "base_uri": "https://localhost:8080/"
        }
      },
      "source": [
        "len(X_train)"
      ],
      "execution_count": null,
      "outputs": [
        {
          "output_type": "execute_result",
          "data": {
            "text/plain": [
              "8500"
            ]
          },
          "metadata": {
            "tags": []
          },
          "execution_count": 20
        }
      ]
    },
    {
      "cell_type": "markdown",
      "metadata": {
        "id": "uCyU3SCBMvJn"
      },
      "source": [
        "Checking for Duplicates.\n",
        "\n",
        "**Note:The X_train stores the hash values in the of form Series (which is 1-D labelled array). Series in pandas have a \"name\" attriute which can be accessed like so: "
      ]
    },
    {
      "cell_type": "code",
      "metadata": {
        "id": "T6ZFSfc_IrF9",
        "outputId": "6b4ae29a-de8f-4a65-fb54-a09b93487488",
        "colab": {
          "base_uri": "https://localhost:8080/"
        }
      },
      "source": [
        "duplicates=[]\n",
        "for i in range(len(X_train)):\n",
        "  duplicates.append(X_train[i].name)\n",
        "len(duplicates)"
      ],
      "execution_count": null,
      "outputs": [
        {
          "output_type": "execute_result",
          "data": {
            "text/plain": [
              "8500"
            ]
          },
          "metadata": {
            "tags": []
          },
          "execution_count": 21
        }
      ]
    },
    {
      "cell_type": "markdown",
      "metadata": {
        "id": "Mamp3_ozONFp"
      },
      "source": [
        "No duplicates are present in the dataset. "
      ]
    },
    {
      "cell_type": "code",
      "metadata": {
        "id": "AZXXCfQbIrMI",
        "outputId": "936d37ab-a936-4835-b16b-95925b47a805",
        "colab": {
          "base_uri": "https://localhost:8080/"
        }
      },
      "source": [
        "dup=list(set(duplicates))\n",
        "len(dup)"
      ],
      "execution_count": null,
      "outputs": [
        {
          "output_type": "execute_result",
          "data": {
            "text/plain": [
              "8500"
            ]
          },
          "metadata": {
            "tags": []
          },
          "execution_count": 22
        }
      ]
    },
    {
      "cell_type": "code",
      "metadata": {
        "id": "pYRZ2iZDIrKO"
      },
      "source": [
        "import math\n",
        "import numpy as np\n",
        "from sklearn import linear_model, metrics, ensemble\n",
        "import pandas as pd\n",
        "import h5py\n",
        "#import tensorflow as tf\n",
        "import random\n",
        "from scipy import interp\n",
        "from itertools import cycle\n",
        "from sklearn.metrics import roc_curve, auc\n",
        "from sklearn import svm, datasets\n",
        "#from tensorflow.python.framework import ops\n",
        "import matplotlib.pyplot as plt"
      ],
      "execution_count": null,
      "outputs": []
    },
    {
      "cell_type": "code",
      "metadata": {
        "id": "UflbYp03IrCI",
        "outputId": "6e270cf8-7777-4c75-c99e-6093c1564958",
        "colab": {
          "base_uri": "https://localhost:8080/"
        }
      },
      "source": [
        "Y_train[0]"
      ],
      "execution_count": null,
      "outputs": [
        {
          "output_type": "execute_result",
          "data": {
            "text/plain": [
              "0"
            ]
          },
          "metadata": {
            "tags": []
          },
          "execution_count": 24
        }
      ]
    },
    {
      "cell_type": "code",
      "metadata": {
        "id": "kyTKKVlQsd8A",
        "outputId": "a9308337-9cdf-4aa4-931e-267eb5350796",
        "colab": {
          "base_uri": "https://localhost:8080/",
          "height": 86
        }
      },
      "source": [
        "\n",
        "'''random_forest_reg = ensemble.RandomForestRegressor()\n",
        "random_forest_reg.fit(X_train, Y_train)\n",
        "##plot the ROC curve for the training set and compute the auc_score\n",
        "training_set_z_rf = random_forest_reg.predict(X_test)\n",
        "fpr_rf, tpr_rf, thresholds_rf = metrics.roc_curve(Y_test, training_set_z_rf)\n",
        "training_auc_score_rf = metrics.roc_auc_score(Y_test, training_set_z_rf)\n",
        "plt.plot(fpr_rf, tpr_rf)\n",
        "plt.title(\"random_forest_test_roc\")\n",
        "plt.xlabel(\"false positive rate\")\n",
        "plt.ylabel(\"true positive rate\")\n",
        "plt.show()\n",
        "print(\"Random Forest Training AUC: \" + str(training_auc_score_rf))\n",
        "'''"
      ],
      "execution_count": null,
      "outputs": [
        {
          "output_type": "execute_result",
          "data": {
            "application/vnd.google.colaboratory.intrinsic+json": {
              "type": "string"
            },
            "text/plain": [
              "'random_forest_reg = ensemble.RandomForestRegressor()\\nrandom_forest_reg.fit(X_train, Y_train)\\n##plot the ROC curve for the training set and compute the auc_score\\ntraining_set_z_rf = random_forest_reg.predict(X_test)\\nfpr_rf, tpr_rf, thresholds_rf = metrics.roc_curve(Y_test, training_set_z_rf)\\ntraining_auc_score_rf = metrics.roc_auc_score(Y_test, training_set_z_rf)\\nplt.plot(fpr_rf, tpr_rf)\\nplt.title(\"random_forest_test_roc\")\\nplt.xlabel(\"false positive rate\")\\nplt.ylabel(\"true positive rate\")\\nplt.show()\\nprint(\"Random Forest Training AUC: \" + str(training_auc_score_rf))\\n'"
            ]
          },
          "metadata": {
            "tags": []
          },
          "execution_count": 25
        }
      ]
    },
    {
      "cell_type": "markdown",
      "metadata": {
        "id": "PVnLRFCEnmoQ"
      },
      "source": [
        "# New Section"
      ]
    },
    {
      "cell_type": "markdown",
      "metadata": {
        "id": "VwlsklwNhuzr"
      },
      "source": [
        "\n",
        "To use tensor_forest we have to use tensorflow 1.x for that."
      ]
    },
    {
      "cell_type": "code",
      "metadata": {
        "id": "3mbU502YlyLm",
        "outputId": "4995461d-9029-4c64-e609-2f36824ca66a",
        "colab": {
          "base_uri": "https://localhost:8080/"
        }
      },
      "source": [
        "\n",
        "### Model 1: Random forest\n",
        "%tensorflow_version 1.x\n",
        "from __future__ import print_function\n",
        "import tensorflow as tf\n",
        "from tensorflow.contrib.learn.python.learn import metric_spec\n",
        "from tensorflow.contrib.learn.python.learn.estimators import estimator\n",
        "from tensorflow.contrib.tensor_forest.client import eval_metrics\n",
        "from tensorflow.contrib.tensor_forest.client import random_forest\n",
        "from tensorflow.contrib.tensor_forest.python import tensor_forest\n",
        "from tensorflow.python.ops import resources\n",
        "tf.reset_default_graph()\n",
        "# Parameters\n",
        "num_steps = 100 # Total steps to train\n",
        "batch_size = 100 # The number of samples per batch\n",
        "num_classes = 2 \n",
        "num_features = 58581 \n",
        "num_trees = 10\n",
        "max_nodes = 30\n",
        "\n",
        "# Input and Target data\n",
        "X = tf.placeholder(tf.float32, shape=[None, num_features])\n",
        "# For random forest, labels must be integers (the class id)\n",
        "Y = tf.placeholder(tf.int32, shape=[None])\n",
        "\n",
        "# Random Forest Parameters\n",
        "hparams = tensor_forest.ForestHParams(num_classes=num_classes,\n",
        "                                      num_features=num_features,\n",
        "                                      num_trees=num_trees,\n",
        "                                      max_nodes=max_nodes).fill()\n",
        "\n",
        "# Build the Random Forest\n",
        "forest_graph = tensor_forest.RandomForestGraphs(hparams)\n",
        "\n",
        "# Get training graph and loss\n",
        "train_op = forest_graph.training_graph(X, Y)\n",
        "loss_op = forest_graph.training_loss(X, Y)\n",
        "\n",
        "# Measure the accuracy\n",
        "infer_op, _, _ = forest_graph.inference_graph(X)\n",
        "correct_prediction = tf.equal(tf.argmax(infer_op, 1), tf.cast(Y, tf.int64))\n",
        "accuracy_op = tf.reduce_mean(tf.cast(correct_prediction, tf.float32))\n",
        "\n",
        "# Initialize the variables (i.e. assign their default value) and forest resources\n",
        "init_vars = tf.group(tf.global_variables_initializer(),\n",
        "    resources.initialize_resources(resources.shared_resources()))\n",
        "\n",
        "# Start TensorFlow session\n",
        "sess = tf.Session()\n",
        "\n",
        "# Run the initializer\n",
        "sess.run(init_vars)\n",
        "# Training\n",
        "for i in range(1, num_steps + 1):\n",
        "    # Prepare Data\n",
        "    X_train,Y_train = next_batch(batch_size,X_train,Y_train)\n",
        "    _, l = sess.run([train_op, loss_op], feed_dict={X: X_train, Y: Y_train})\n",
        "    if i % 50 == 0 or i == 1:\n",
        "        acc = sess.run(accuracy_op, feed_dict={X: X_train, Y: Y_train})\n",
        "        print('Step %i, Loss: %f, Acc: %f' % (i, l, acc))\n",
        "\n",
        "# Test Model\n",
        "print(\"Test Accuracy:\", sess.run(accuracy_op, feed_dict={X: X_test, Y: Y_test}))"
      ],
      "execution_count": null,
      "outputs": [
        {
          "output_type": "stream",
          "text": [
            "TensorFlow 1.x selected.\n",
            "INFO:tensorflow:Constructing forest with params = \n",
            "INFO:tensorflow:{'num_trees': 10, 'max_nodes': 30, 'bagging_fraction': 1.0, 'feature_bagging_fraction': 1.0, 'num_splits_to_consider': 242, 'max_fertile_nodes': 0, 'split_after_samples': 250, 'valid_leaf_threshold': 1, 'dominate_method': 'bootstrap', 'dominate_fraction': 0.99, 'model_name': 'all_dense', 'split_finish_name': 'basic', 'split_pruning_name': 'none', 'collate_examples': False, 'checkpoint_stats': False, 'use_running_stats_method': False, 'initialize_average_splits': False, 'inference_tree_paths': False, 'param_file': None, 'split_name': 'less_or_equal', 'early_finish_check_every_samples': 0, 'prune_every_samples': 0, 'num_classes': 2, 'num_features': 58581, 'bagged_num_features': 58581, 'bagged_features': None, 'regression': False, 'num_outputs': 1, 'num_output_columns': 3, 'base_random_seed': 0, 'leaf_model_type': 0, 'stats_model_type': 0, 'finish_type': 0, 'pruning_type': 0, 'split_type': 0}\n",
            "WARNING:tensorflow:From /tensorflow-1.15.2/python3.6/tensorflow_core/contrib/tensor_forest/python/tensor_forest.py:529: div (from tensorflow.python.ops.math_ops) is deprecated and will be removed in a future version.\n",
            "Instructions for updating:\n",
            "Deprecated in favor of operator or tf.math.divide.\n",
            "Step 1, Loss: -1.600000, Acc: 0.930471\n",
            "Step 50, Loss: -31.000000, Acc: 0.952824\n",
            "Step 100, Loss: -31.000000, Acc: 0.952824\n",
            "Test Accuracy: 0.95233417\n"
          ],
          "name": "stdout"
        }
      ]
    }
  ]
}